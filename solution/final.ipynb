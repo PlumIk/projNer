{
 "cells": [
  {
   "cell_type": "code",
   "execution_count": 12,
   "outputs": [],
   "source": [
    "from pathlib import Path\n",
    "\n",
    "import numpy as np\n",
    "import pandas as pd"
   ],
   "metadata": {
    "collapsed": false
   }
  },
  {
   "cell_type": "code",
   "execution_count": 13,
   "outputs": [],
   "source": [
    "from typing import Final\n",
    "\n",
    "SEED: Final[int] = 42"
   ],
   "metadata": {
    "collapsed": false
   }
  },
  {
   "cell_type": "code",
   "execution_count": 14,
   "outputs": [],
   "source": [
    "def preprocess(data: pd.DataFrame) -> pd.DataFrame:\n",
    "    x = data.copy(deep=True)\n",
    "    x['Rating'] = x['Rating'].str.replace(',', '.').astype(float)\n",
    "    x['Price diff'] = x[\"Max price\"] - x[\"Min price\"]\n",
    "    x = x.drop(columns=[\"full_category\",\n",
    "                        \"Color\",\n",
    "                        \"Max price\",\n",
    "                        \"Min price\",\n",
    "                        \"Average price\",\n",
    "                        \"Brand\",\n",
    "                        \"Seller\",\n",
    "                        \"Name\",\n",
    "                        \"Category\",\n",
    "                        ])\n",
    "    return x"
   ],
   "metadata": {
    "collapsed": false
   }
  },
  {
   "cell_type": "markdown",
   "source": [],
   "metadata": {
    "collapsed": false
   }
  },
  {
   "cell_type": "code",
   "execution_count": 15,
   "outputs": [],
   "source": [
    "data_dir = Path(\"../data\")\n",
    "train_csv = pd.read_csv(data_dir / \"train.csv\")"
   ],
   "metadata": {
    "collapsed": false
   }
  },
  {
   "cell_type": "code",
   "execution_count": 16,
   "outputs": [],
   "source": [
    "train_data = preprocess(data=train_csv)\n",
    "train_data = train_data.dropna(axis='index')"
   ],
   "metadata": {
    "collapsed": false
   }
  },
  {
   "cell_type": "markdown",
   "source": [],
   "metadata": {
    "collapsed": false
   }
  },
  {
   "cell_type": "markdown",
   "source": [],
   "metadata": {
    "collapsed": false
   }
  },
  {
   "cell_type": "code",
   "execution_count": 17,
   "outputs": [
    {
     "name": "stderr",
     "output_type": "stream",
     "text": [
      "[Parallel(n_jobs=-1)]: Using backend ThreadingBackend with 8 concurrent workers.\n",
      "[Parallel(n_jobs=-1)]: Done  34 tasks      | elapsed:    1.0s\n",
      "[Parallel(n_jobs=-1)]: Done 100 out of 100 | elapsed:    2.4s finished\n",
      "[Parallel(n_jobs=8)]: Using backend ThreadingBackend with 8 concurrent workers.\n",
      "[Parallel(n_jobs=8)]: Done  34 tasks      | elapsed:    0.0s\n",
      "[Parallel(n_jobs=8)]: Done 100 out of 100 | elapsed:    0.1s finished\n"
     ]
    },
    {
     "data": {
      "text/plain": "          Id  Expected\n0          0      41.0\n1          1      24.0\n2          2      47.0\n3          3       0.0\n4          4       6.0\n...      ...       ...\n10736  10736       3.0\n10737  10737      29.0\n10738  10738     148.0\n10739  10739       2.0\n10740  10740      14.0\n\n[10741 rows x 2 columns]",
      "text/html": "<div>\n<style scoped>\n    .dataframe tbody tr th:only-of-type {\n        vertical-align: middle;\n    }\n\n    .dataframe tbody tr th {\n        vertical-align: top;\n    }\n\n    .dataframe thead th {\n        text-align: right;\n    }\n</style>\n<table border=\"1\" class=\"dataframe\">\n  <thead>\n    <tr style=\"text-align: right;\">\n      <th></th>\n      <th>Id</th>\n      <th>Expected</th>\n    </tr>\n  </thead>\n  <tbody>\n    <tr>\n      <th>0</th>\n      <td>0</td>\n      <td>41.0</td>\n    </tr>\n    <tr>\n      <th>1</th>\n      <td>1</td>\n      <td>24.0</td>\n    </tr>\n    <tr>\n      <th>2</th>\n      <td>2</td>\n      <td>47.0</td>\n    </tr>\n    <tr>\n      <th>3</th>\n      <td>3</td>\n      <td>0.0</td>\n    </tr>\n    <tr>\n      <th>4</th>\n      <td>4</td>\n      <td>6.0</td>\n    </tr>\n    <tr>\n      <th>...</th>\n      <td>...</td>\n      <td>...</td>\n    </tr>\n    <tr>\n      <th>10736</th>\n      <td>10736</td>\n      <td>3.0</td>\n    </tr>\n    <tr>\n      <th>10737</th>\n      <td>10737</td>\n      <td>29.0</td>\n    </tr>\n    <tr>\n      <th>10738</th>\n      <td>10738</td>\n      <td>148.0</td>\n    </tr>\n    <tr>\n      <th>10739</th>\n      <td>10739</td>\n      <td>2.0</td>\n    </tr>\n    <tr>\n      <th>10740</th>\n      <td>10740</td>\n      <td>14.0</td>\n    </tr>\n  </tbody>\n</table>\n<p>10741 rows × 2 columns</p>\n</div>"
     },
     "execution_count": 17,
     "metadata": {},
     "output_type": "execute_result"
    }
   ],
   "source": [
    "from sklearn.ensemble import RandomForestRegressor\n",
    "\n",
    "test_csv_file = pd.read_csv(data_dir / \"test.csv\")\n",
    "id_column = test_csv_file.Id.tolist()\n",
    "test_csv_file.drop(columns=['Id'], inplace=True)\n",
    "test_unit = preprocess(test_csv_file)\n",
    "train_unit = train_data.copy(deep=True).drop(columns=['Sales'])\n",
    "estimator = RandomForestRegressor(n_estimators=100, n_jobs=-1, verbose=True, random_state=42)\n",
    "estimator.fit(X=train_unit, y=train_data.Sales)\n",
    "results = estimator.predict(X=test_unit)\n",
    "submit_csv_file = pd.DataFrame({'Id': id_column, 'Expected': np.round(results)})\n",
    "submit_csv_file"
   ],
   "metadata": {
    "collapsed": false
   }
  },
  {
   "cell_type": "code",
   "execution_count": 18,
   "outputs": [],
   "source": [
    "submit_csv_file.to_csv('../submissions/baseline.csv', index=False)"
   ],
   "metadata": {
    "collapsed": false
   }
  }
 ],
 "metadata": {
  "kernelspec": {
   "display_name": "Python 3",
   "language": "python",
   "name": "python3"
  },
  "language_info": {
   "codemirror_mode": {
    "name": "ipython",
    "version": 2
   },
   "file_extension": ".py",
   "mimetype": "text/x-python",
   "name": "python",
   "nbconvert_exporter": "python",
   "pygments_lexer": "ipython2",
   "version": "2.7.6"
  }
 },
 "nbformat": 4,
 "nbformat_minor": 0
}
